{
 "cells": [
  {
   "cell_type": "code",
   "execution_count": 1,
   "id": "3fe9ee10",
   "metadata": {},
   "outputs": [
    {
     "name": "stdout",
     "output_type": "stream",
     "text": [
      "The sum of all multiples of 3 or 5 below 1000 is: 233168\n"
     ]
    }
   ],
   "source": [
    "in_Number = int(input(\"Enter a number: \"))\n",
    "\n",
    "def sum_of_multiples(n):\n",
    "    total = 0\n",
    "    for i in range(n):\n",
    "        if i % 3 == 0 or i % 5 == 0:\n",
    "            total += i\n",
    "    return total\n",
    "\n",
    "result = sum_of_multiples(in_Number)\n",
    "print(f\"The sum of all multiples of 3 or 5 below {in_Number} is: {result}\")"
   ]
  },
  {
   "cell_type": "code",
   "execution_count": 2,
   "id": "810cadda",
   "metadata": {},
   "outputs": [
    {
     "name": "stdout",
     "output_type": "stream",
     "text": [
      "The sum of even Fibonacci numbers below 4,000,000 is: 4613732\n"
     ]
    }
   ],
   "source": [
    "def sum_of_fibonacci(n):\n",
    "    a, b = 0, 1\n",
    "    total = 0\n",
    "    while a < n:\n",
    "        if a % 2 == 0:\n",
    "            total += a\n",
    "        a, b = b, a + b\n",
    "    return total\n",
    "print(f\"The sum of even Fibonacci numbers below 4,000,000 is: {sum_of_fibonacci(4000000)}\")"
   ]
  },
  {
   "cell_type": "code",
   "execution_count": 3,
   "id": "d468cdfb",
   "metadata": {},
   "outputs": [
    {
     "name": "stdout",
     "output_type": "stream",
     "text": [
      "The largest prime factor of 600851475143 is: 6857\n"
     ]
    }
   ],
   "source": [
    "def largest_prime_factor(n):\n",
    "    factor = 2\n",
    "    while factor * factor <= n:\n",
    "        if (n % factor)!= 0:\n",
    "            factor += 1\n",
    "        else:\n",
    "            n //= factor\n",
    "    return n\n",
    "\n",
    "print(f\"The largest prime factor of 600851475143 is: {largest_prime_factor(600851475143)}\")"
   ]
  },
  {
   "cell_type": "code",
   "execution_count": 4,
   "id": "ba1fdbcf",
   "metadata": {},
   "outputs": [
    {
     "name": "stdout",
     "output_type": "stream",
     "text": [
      "The largest palindrome made from the product of two 3-digit numbers is: (906609, 999, 999)\n"
     ]
    }
   ],
   "source": [
    "def largest_palindrome_product(digits):\n",
    "    start_num = 10**(digits - 1)\n",
    "    end_num = 10**digits\n",
    "    max_palindrome = 0\n",
    "    for i in range(start_num, end_num):\n",
    "        for j in range(i, end_num):\n",
    "            product = i * j\n",
    "            if str(product) == str(product)[::-1] and product > max_palindrome:\n",
    "                max_palindrome = product\n",
    "    return max_palindrome,i,j\n",
    "print(f\"The largest palindrome made from the product of two 3-digit numbers is: {largest_palindrome_product(3)}\")"
   ]
  }
 ],
 "metadata": {
  "kernelspec": {
   "display_name": "Python 3",
   "language": "python",
   "name": "python3"
  },
  "language_info": {
   "codemirror_mode": {
    "name": "ipython",
    "version": 3
   },
   "file_extension": ".py",
   "mimetype": "text/x-python",
   "name": "python",
   "nbconvert_exporter": "python",
   "pygments_lexer": "ipython3",
   "version": "3.13.2"
  }
 },
 "nbformat": 4,
 "nbformat_minor": 5
}
