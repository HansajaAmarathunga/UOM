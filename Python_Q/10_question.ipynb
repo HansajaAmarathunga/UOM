{
 "cells": [
  {
   "cell_type": "code",
   "execution_count": 1,
   "id": "3fe9ee10",
   "metadata": {},
   "outputs": [
    {
     "name": "stdout",
     "output_type": "stream",
     "text": [
      "The sum of all multiples of 3 or 5 below 1000 is: 233168\n"
     ]
    }
   ],
   "source": [
    "in_Number = int(input(\"Enter a number: \"))\n",
    "\n",
    "def sum_of_multiples(n):\n",
    "    total = 0\n",
    "    for i in range(n):\n",
    "        if i % 3 == 0 or i % 5 == 0:\n",
    "            total += i\n",
    "    return total\n",
    "\n",
    "result = sum_of_multiples(in_Number)\n",
    "print(f\"The sum of all multiples of 3 or 5 below {in_Number} is: {result}\")"
   ]
  },
  {
   "cell_type": "code",
   "execution_count": 2,
   "id": "810cadda",
   "metadata": {},
   "outputs": [
    {
     "name": "stdout",
     "output_type": "stream",
     "text": [
      "The sum of even Fibonacci numbers below 4,000,000 is: 4613732\n"
     ]
    }
   ],
   "source": [
    "def sum_of_fibonacci(n):\n",
    "    a, b = 0, 1\n",
    "    total = 0\n",
    "    while a < n:\n",
    "        if a % 2 == 0:\n",
    "            total += a\n",
    "        a, b = b, a + b\n",
    "    return total\n",
    "print(f\"The sum of even Fibonacci numbers below 4,000,000 is: {sum_of_fibonacci(4000000)}\")"
   ]
  },
  {
   "cell_type": "code",
   "execution_count": 3,
   "id": "d468cdfb",
   "metadata": {},
   "outputs": [
    {
     "name": "stdout",
     "output_type": "stream",
     "text": [
      "The largest prime factor of 600851475143 is: 6857\n"
     ]
    }
   ],
   "source": [
    "def largest_prime_factor(n):\n",
    "    factor = 2\n",
    "    while factor * factor <= n:\n",
    "        if (n % factor)!= 0:\n",
    "            factor += 1\n",
    "        else:\n",
    "            n //= factor\n",
    "    return n\n",
    "\n",
    "print(f\"The largest prime factor of 600851475143 is: {largest_prime_factor(600851475143)}\")"
   ]
  },
  {
   "cell_type": "code",
   "execution_count": 4,
   "id": "ba1fdbcf",
   "metadata": {},
   "outputs": [
    {
     "name": "stdout",
     "output_type": "stream",
     "text": [
      "The largest palindrome made from the product of two 3-digit numbers is: (906609, 999, 999)\n"
     ]
    }
   ],
   "source": [
    "def largest_palindrome_product(digits):\n",
    "    start_num = 10**(digits - 1)\n",
    "    end_num = 10**digits\n",
    "    max_palindrome = 0\n",
    "    for i in range(start_num, end_num):\n",
    "        for j in range(i, end_num):\n",
    "            product = i * j\n",
    "            if str(product) == str(product)[::-1] and product > max_palindrome:\n",
    "                max_palindrome = product\n",
    "    return max_palindrome,i,j\n",
    "print(f\"The largest palindrome made from the product of two 3-digit numbers is: {largest_palindrome_product(3)}\")"
   ]
  },
  {
   "cell_type": "code",
   "execution_count": 14,
   "id": "81d01155",
   "metadata": {},
   "outputs": [
    {
     "name": "stdout",
     "output_type": "stream",
     "text": [
      "The smallest positive number that is evenly divisible by all of the numbers from 1 to 20 is: 232792560\n"
     ]
    }
   ],
   "source": [
    "def smallest_multiple(n):\n",
    "    def gcd(a, b):\n",
    "        while b:\n",
    "            a, b = b, a % b\n",
    "        return a\n",
    "\n",
    "    def lcm(a, b):\n",
    "        return a * b // gcd(a, b)\n",
    "\n",
    "    multiple = 1\n",
    "    for i in range(2, n + 1):\n",
    "        multiple = lcm(multiple, i)\n",
    "    return multiple\n",
    "print(f\"The smallest positive number that is evenly divisible by all of the numbers from 1 to 20 is: {smallest_multiple(20)}\")"
   ]
  },
  {
   "cell_type": "code",
   "execution_count": 15,
   "id": "c59310d0",
   "metadata": {},
   "outputs": [
    {
     "name": "stdout",
     "output_type": "stream",
     "text": [
      "The difference between the sum of the squares and the square of the sum for the first 100 natural numbers is: 25164150\n"
     ]
    }
   ],
   "source": [
    "def sum_square_difference(n):\n",
    "    sum_of_squares = sum(i**2 for i in range(1, n + 1))\n",
    "    square_of_sum = sum(range(1, n + 1))**2\n",
    "    return square_of_sum - sum_of_squares\n",
    "print(f\"The difference between the sum of the squares and the square of the sum for the first 100 natural numbers is: {sum_square_difference(100)}\")    "
   ]
  },
  {
   "cell_type": "code",
   "execution_count": 16,
   "id": "34ed7af8",
   "metadata": {},
   "outputs": [
    {
     "name": "stdout",
     "output_type": "stream",
     "text": [
      "The 10,001st prime number is: 104743\n"
     ]
    }
   ],
   "source": [
    "def nth_prime(n):\n",
    "    count = 0\n",
    "    candidate = 1\n",
    "    while count < n:\n",
    "        candidate += 1\n",
    "        for i in range(2, int(candidate**0.5) + 1):\n",
    "            if candidate % i == 0:\n",
    "                break\n",
    "        else:\n",
    "            count += 1\n",
    "    return candidate\n",
    "print(f\"The 10,001st prime number is: {nth_prime(10001)}\")"
   ]
  },
  {
   "cell_type": "code",
   "execution_count": 19,
   "id": "d89e3dbe",
   "metadata": {},
   "outputs": [
    {
     "name": "stdout",
     "output_type": "stream",
     "text": [
      "The greatest product of thirteen adjacent digits in the 1000-digit number is: 0\n"
     ]
    }
   ],
   "source": [
    "def adjecent_digits_gratest_product(n, digits):\n",
    "    max_product = 0\n",
    "    for i in range(len(str(n)) - digits + 1):\n",
    "        product = 1\n",
    "        for j in range(i, i + digits):\n",
    "            product *= int(n[j])\n",
    "        if product > max_product:\n",
    "            max_product = product\n",
    "    return max_product\n",
    "print(f\"The greatest product of thirteen adjacent digits in the 1000-digit number is: {adjecent_digits_gratest_product(13,4)}\")"
   ]
  },
  {
   "cell_type": "code",
   "execution_count": 20,
   "id": "8377e710",
   "metadata": {},
   "outputs": [
    {
     "name": "stdout",
     "output_type": "stream",
     "text": [
      "The Pythagorean triplet for which a + b + c = 1000 is: (200, 375, 425, 31875000), and the product abc is: 31875000\n"
     ]
    }
   ],
   "source": [
    "def pythagorean_triplet(sum_total):\n",
    "    for a in range(1, sum_total):\n",
    "        for b in range(a, sum_total - a):\n",
    "            c = sum_total - a - b\n",
    "            if a**2 + b**2 == c**2:\n",
    "                return a, b, c, a * b * c\n",
    "result = pythagorean_triplet(1000)\n",
    "print(f\"The Pythagorean triplet for which a + b + c = 1000 is: {result}, and the product abc is: {result[3]}\")"
   ]
  }
 ],
 "metadata": {
  "kernelspec": {
   "display_name": "Python 3",
   "language": "python",
   "name": "python3"
  },
  "language_info": {
   "codemirror_mode": {
    "name": "ipython",
    "version": 3
   },
   "file_extension": ".py",
   "mimetype": "text/x-python",
   "name": "python",
   "nbconvert_exporter": "python",
   "pygments_lexer": "ipython3",
   "version": "3.13.2"
  }
 },
 "nbformat": 4,
 "nbformat_minor": 5
}
